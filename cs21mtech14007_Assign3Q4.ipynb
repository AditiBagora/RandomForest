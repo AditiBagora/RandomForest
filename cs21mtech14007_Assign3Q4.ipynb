{
  "nbformat": 4,
  "nbformat_minor": 0,
  "metadata": {
    "colab": {
      "name": "cs21mtech14007_Assign3Q4.ipynb",
      "provenance": [],
      "collapsed_sections": []
    },
    "kernelspec": {
      "display_name": "Python 3",
      "name": "python3"
    },
    "language_info": {
      "name": "python"
    }
  },
  "cells": [
    {
      "cell_type": "markdown",
      "metadata": {
        "id": "T9wjme_eS_51"
      },
      "source": [
        "**Read Dataset**"
      ]
    },
    {
      "cell_type": "code",
      "metadata": {
        "id": "5Lu8547fS-tl"
      },
      "source": [
        "import csv\n",
        "from random import randrange\n",
        "import matplotlib.pyplot as plt\n",
        "from scipy.interpolate import make_interp_spline\n",
        "import numpy as np\n",
        "import pandas as pd\n",
        "\n",
        "# Enter You Name Here\n",
        "myname = \"Aditi Bagora\""
      ],
      "execution_count": null,
      "outputs": []
    },
    {
      "cell_type": "markdown",
      "metadata": {
        "id": "4huKFjfuhC1O"
      },
      "source": [
        "Read Dataset"
      ]
    },
    {
      "cell_type": "code",
      "metadata": {
        "id": "M52QDmyzhh9s"
      },
      "source": [
        "dataset = pd.read_csv('spam_1.data',delimiter=' ')\n",
        "feature_set = dataset.iloc[:, :-1].values\n",
        "label = dataset.iloc[:, -1].values\n"
      ],
      "execution_count": null,
      "outputs": []
    },
    {
      "cell_type": "markdown",
      "metadata": {
        "id": "FygLWWz1hFXK"
      },
      "source": [
        "Test-Train Split"
      ]
    },
    {
      "cell_type": "code",
      "metadata": {
        "id": "LCOWoWAmtp7y"
      },
      "source": [
        "from sklearn.model_selection import train_test_split\n",
        "X_train, X_test, y_train, y_test = train_test_split(feature_set, label, test_size = 0.30, random_state = 0)\n",
        "dataset_train=np.column_stack((X_train,y_train))\n",
        "dataset_test=np.column_stack((X_test,y_test))"
      ],
      "execution_count": null,
      "outputs": []
    },
    {
      "cell_type": "markdown",
      "metadata": {
        "id": "G9n3GX7bT03S"
      },
      "source": [
        "**Class Node of decisionTree**"
      ]
    },
    {
      "cell_type": "code",
      "metadata": {
        "id": "VLwFki_Aae7p"
      },
      "source": [
        "class Node():\n",
        "        def __init__(self, index=-1, value=-1, left=None, right=None, info_gain=-1, cvalue=None):\n",
        "            ''' constructor '''\n",
        "            # for decision node\n",
        "            self.Index = index\n",
        "            self.Value = value\n",
        "            self.Left = left\n",
        "            self.Right = right\n",
        "            self.Left_subtree = left\n",
        "            self.Right_subtree = right\n",
        "            self.Info_gain = info_gain\n",
        "            # for leaf node\n",
        "            self.Cvalue = cvalue"
      ],
      "execution_count": null,
      "outputs": []
    },
    {
      "cell_type": "markdown",
      "metadata": {
        "id": "Zgbos_HmhJVl"
      },
      "source": [
        "Decision Tree Class from Assignment 1"
      ]
    },
    {
      "cell_type": "code",
      "metadata": {
        "id": "x4kGxxh8aZSU"
      },
      "source": [
        "class DecisionTree():\n",
        "        root = Node()\n",
        "        min_samples_split = 0\n",
        "        def learn(self, training_set, method):\n",
        "              num_samples, num_features = np.shape(training_set)\n",
        "              #if num_samples>=self.min_samples_split:\n",
        "              node = self.get_split(training_set,method)\n",
        "              # check if information gain is positive\n",
        "              if node.Info_gain > 0:\n",
        "                    node.Left_subtree = self.learn(node.Left, method)\n",
        "                    node.Right_subtree = self.learn(node.Right, method)\n",
        "                    return Node(node.Index, node.Value, node.Left_subtree,\n",
        "                                node.Right_subtree, node.Info_gain, None)\n",
        "              if node.Cvalue is None:\n",
        "                 return Node(cvalue=self.Majority_Class_Label(training_set[:,num_features-1]))\n",
        "              else:\n",
        "                 return Node(cvalue=node.Cvalue)\n",
        "\n",
        "            # implement this function\n",
        "        def print_tree(self, tree=None, indent=\" \"):\n",
        "            if tree is None:\n",
        "                return\n",
        "            if tree.Cvalue is not None:\n",
        "                print(tree.Cvalue)\n",
        "            else:\n",
        "                print(\"X_\" + str(tree.Index), \"<=\", tree.Value, \"?\", tree.Info_gain)\n",
        "                print(\"%sleft:\" % (indent), end=\"\")\n",
        "                self.print_tree(tree.Left_subtree, indent + indent)\n",
        "                print(\"%sright:\" % (indent), end=\"\")\n",
        "                self.print_tree(tree.Right_subtree, indent + indent)\n",
        "\n",
        "        def classify(self, test_instance, tree):\n",
        "           if tree is not None:\n",
        "            if tree.Cvalue is not None:\n",
        "                return tree.Cvalue\n",
        "            feature_val = test_instance[tree.Index]\n",
        "            if float(feature_val) <= float(tree.Value):\n",
        "                return self.classify(test_instance, tree.Left_subtree)\n",
        "            else:\n",
        "                return self.classify(test_instance, tree.Right_subtree)\n",
        "\n",
        "        def get_split(self, dataset,method):\n",
        "            num_samples, num_features = np.shape(dataset)\n",
        "            dataset_array=np.array([row for row in dataset])\n",
        "            optimal_split = Node()\n",
        "            max_gain = -float(\"inf\")\n",
        "            for feature_index in range(num_features-1):\n",
        "                feature_values = dataset_array[:, feature_index]\n",
        "                possible_values = np.unique(feature_values)\n",
        "                for val in possible_values:\n",
        "                    dataset_left = np.array([row for row in dataset if row[feature_index] <= val])\n",
        "                    dataset_right = np.array([row for row in dataset if row[feature_index] > val])\n",
        "                    # check if dataset are not null\n",
        "                    parent = dataset_array[:, num_features - 1]\n",
        "                    left_y=None\n",
        "                    right_y=None\n",
        "                    if len(dataset_left) > 0:\n",
        "                          left_y = dataset_left[:, num_features - 1]\n",
        "                    if len(dataset_right) > 0:\n",
        "                          right_y = dataset_right[:, num_features - 1]\n",
        "                        # Information gain\n",
        "                    curr_gain, class_label = self.Information_Gain(parent, left_y, right_y, method)\n",
        "                    # Find optimal split\n",
        "                    if curr_gain >= max_gain:\n",
        "                            optimal_split.Index = feature_index\n",
        "                            optimal_split.Value = val\n",
        "                            optimal_split.Left = dataset_left\n",
        "                            optimal_split.Right = dataset_right\n",
        "                            optimal_split.Info_gain = curr_gain\n",
        "                            optimal_split.Cvalue = class_label\n",
        "                            max_gain = curr_gain\n",
        "\n",
        "            # return optimal split\n",
        "            return optimal_split\n",
        "\n",
        "        def Information_Gain(self, parent, l_child, r_child, method):\n",
        "            ''' function to compute variance reduction '''\n",
        "            probability_l=0\n",
        "            probability_r=0\n",
        "            if l_child is not None:\n",
        "                      probability_l = len(l_child) / len(parent)\n",
        "            if r_child is not None:\n",
        "                      probability_r = len(r_child) / len(parent)\n",
        "\n",
        "            if method == 'Entropy':\n",
        "                EParent = self.Entropy(parent)\n",
        "                Elchild = self.Entropy(l_child)\n",
        "                Erchild = self.Entropy(r_child)\n",
        "                Gain = EParent - (probability_l * Elchild + probability_r * Erchild)\n",
        "                if l_child is not None and (Elchild == 0 or Elchild == 1):\n",
        "                    class_label = l_child[0]\n",
        "                elif r_child is not None and (Erchild == 0 or Erchild == 1):\n",
        "                    class_label = r_child[0]\n",
        "                else:\n",
        "                    class_label = self.Majority_Class_Label(parent)\n",
        "            else:\n",
        "                GParent = self.GiniIndex(parent)\n",
        "                Glchild = self.GiniIndex(l_child)\n",
        "                Grchild = self.GiniIndex(r_child)\n",
        "                Gain = GParent - (probability_l * Glchild + probability_r * Grchild)\n",
        "                if Glchild == 0 or Glchild == 1:\n",
        "                    class_label = l_child[0]\n",
        "                elif Grchild == 0 or Grchild == 1:\n",
        "                    class_label = r_child[0]\n",
        "                else:\n",
        "                    class_label = self.Majority_Class_Label(parent)\n",
        "            return Gain, class_label\n",
        "\n",
        "        def Majority_Class_Label(self, dataset_label):\n",
        "             unique_class_label = np.unique(dataset_label)\n",
        "             max_label_count=0\n",
        "             for class_label in unique_class_label:\n",
        "                class_label_count = len(dataset_label[dataset_label == class_label])\n",
        "                if class_label_count > max_label_count:\n",
        "                  max_label_count= class_label_count\n",
        "                  max_label = class_label\n",
        "             return max_label\n",
        "\n",
        "        def Entropy(self, child):\n",
        "            entropy = 0\n",
        "            if child is not None:\n",
        "              unique_class_label = np.unique(child)\n",
        "              for class_label in unique_class_label:\n",
        "                probability_class_label = len(child[child == class_label]) / len(child)\n",
        "                entropy += (-probability_class_label * np.log2(probability_class_label))\n",
        "            return entropy\n",
        "\n",
        "        def GiniIndex(self, child):\n",
        "            GiniIndex = 0\n",
        "            unique_class_label = np.unique(child)\n",
        "            for class_label in unique_class_label:\n",
        "                probability_class_label = len(child[child == class_label]) / len(child)\n",
        "                GiniIndex += probability_class_label * probability_class_label\n",
        "            return 1 - GiniIndex\n",
        "\n",
        "        def plot_accuracy(self, accuracy_plot):\n",
        "           k=0\n",
        "           for acc_list in  accuracy_plot:\n",
        "               y1=list()\n",
        "               for i in range(len(acc_list)):\n",
        "                  y1.append(i+1)\n",
        "               X_Y_Spline = make_interp_spline(y1, acc_list)\n",
        "               X_ = np.linspace(1, 10, 500)\n",
        "               Y_ = X_Y_Spline(X_)  \n",
        "               if k==0:\n",
        "                 label='Entropy'\n",
        "               if k==1:\n",
        "                 label='Gini Index'\n",
        "               if k==2:\n",
        "                 label='Pre Pruning'    \n",
        "               k=k+1 \n",
        "               plt.plot(X_, Y_, label=label)\n",
        "           plt.xlabel('kth - fold')\n",
        "           plt.ylabel('Accuracy')\n",
        "           plt.title('Accuracy Plot ')\n",
        "           plt.legend()\n",
        "           plt.show()\n",
        "\n",
        "        def plot_modelselection(self, accuracy_plot):\n",
        "           y1=list()\n",
        "           for i in range(len(accuracy_plot)):\n",
        "                  y1.append(10*i)\n",
        "           plt.plot(y1, accuracy_plot, label=\"Accuracy\")\n",
        "           plt.xlabel('kth - fold')\n",
        "           plt.ylabel('Accuracy')\n",
        "           plt.title('Accuracy Plot ')\n",
        "           plt.legend()\n",
        "           plt.show()"
      ],
      "execution_count": null,
      "outputs": []
    },
    {
      "cell_type": "markdown",
      "metadata": {
        "id": "o9XKruavhPop"
      },
      "source": [
        "Sklearn Random Forest Classifier "
      ]
    },
    {
      "cell_type": "code",
      "metadata": {
        "id": "CdKxrFYXkx5D"
      },
      "source": [
        "def PreBuildRandomForest():\n",
        "   from sklearn.ensemble import RandomForestClassifier\n",
        "   print(\"Scikit Learn RFC\")\n",
        "   classifier = RandomForestClassifier(n_estimators = 10, criterion = 'entropy',oob_score=True, random_state = 123)\n",
        "   classifier.fit(X_train, y_train)\n",
        "   y_pred = classifier.predict(X_test)\n",
        "   GetAccuracyandConfusionMatrix(y_pred,y_test)\n",
        "   print(\"OOB score\")\n",
        "   print(classifier.oob_score_)"
      ],
      "execution_count": null,
      "outputs": []
    },
    {
      "cell_type": "markdown",
      "metadata": {
        "id": "vWaEauMkUId7"
      },
      "source": [
        "**Ensemble Random Forest**"
      ]
    },
    {
      "cell_type": "code",
      "metadata": {
        "id": "Xy1P0KhuUN0-"
      },
      "source": [
        "class EnsembleRandomForest:\n",
        "   #features_per_tree=list()\n",
        "   def __init__(self, num_features=3,num_trees=10, num_samples=None,dataset=None):\n",
        "            ''' constructor '''\n",
        "            # for decision node\n",
        "            self.forest = list()\n",
        "            self.predictions = list()\n",
        "            self.oob_samples=list()\n",
        "            self.num_features=num_features\n",
        "            self.num_samples = num_samples\n",
        "            self.num_trees=num_trees\n",
        "            self.dataset=dataset\n",
        "            self.features_per_tree = list()\n",
        "            self.selected_samples=list()\n",
        "\n",
        "   def GetTestInstanceFeatures(self,test_instance, i):\n",
        "       samples,features=np.shape(self.dataset)\n",
        "       for j in range(features-1, -1, -1):\n",
        "           if j not in self.features_per_tree[i]:\n",
        "               test_instance = np.delete(test_instance, obj=j)\n",
        "       return test_instance\n",
        "\n",
        "   def GetRandomSubsetOfTrainingSamples(self, dataset, features_prev=list()):\n",
        "      selected_sample_indices=list()\n",
        "      samples, features = np.shape(dataset)\n",
        "      data_subset=np.empty((0,features), float)\n",
        "      oob_set = np.empty((0, features), float)\n",
        "      while len(selected_sample_indices) < samples:\n",
        "          index=randrange(samples)\n",
        "          selected_sample_indices.append(index)\n",
        "          data_subset = np.append(data_subset, np.array([dataset[index]]), axis=0)\n",
        "\n",
        "      for i in range(samples):\n",
        "         if i not in selected_sample_indices:\n",
        "             oob_set=np.append(oob_set,np.array([dataset[i]]),axis=0)\n",
        "\n",
        "      feature_subset = list()\n",
        "      while len(feature_subset) < self.num_features:\n",
        "          index=randrange(features-1)\n",
        "          if index not in feature_subset:\n",
        "              feature_subset.append(index)\n",
        "\n",
        "      feature_subset.sort(reverse=True)\n",
        "      for i in range(features-2,-1,-1):\n",
        "        if i not in feature_subset:\n",
        "          data_subset=np.delete(data_subset,obj=i,axis=1)\n",
        "          oob_set = np.delete(oob_set, obj=i, axis=1)\n",
        "\n",
        "      self.oob_samples.append(oob_set)\n",
        "      return data_subset,feature_subset,selected_sample_indices\n",
        "\n",
        "\n",
        "   def CreateForestOfLearnedTrees(self):\n",
        "      self.features_per_tree.clear()\n",
        "      for i in range(self.num_trees):\n",
        "         random_training_set,feature_list,selected_sample_list=self.GetRandomSubsetOfTrainingSamples(dataset_train,list())\n",
        "         self.features_per_tree.append(feature_list)\n",
        "         self.selected_samples.append(selected_sample_list)\n",
        "         tree=DecisionTree()\n",
        "         tree.root=tree.learn(random_training_set,'Entropy')\n",
        "         self.forest.append(tree)\n",
        "\n",
        "   def Test_Model(self,model, test_set) :\n",
        "        result = model.classify(test_set, model.root)\n",
        "        return result\n",
        "\n",
        "   def GetOOBSamplesIndicesForTree(self,tree_index):\n",
        "     dataset_set=set()\n",
        "     for i in range(np.shape(dataset)[0]):\n",
        "       dataset_set.add(i)\n",
        "     sample_subset=set(self.selected_samples[tree_index])\n",
        "     oob_subset=dataset_set.difference(sample_subset)\n",
        "     for i in oob_subset:\n",
        "       if i > np.shape(dataset)[0]-1:\n",
        "          print(dataset_set)\n",
        "          print(sample_subset)\n",
        "          print(oob_subset)\n",
        "          print(tree_index)\n",
        "     return oob_subset\n",
        "\n",
        "   def GetTreeIndexForOOBSample(self,sample_index) : \n",
        "      predictors=list()\n",
        "      for i in range(len(self.forest)):\n",
        "        if sample_index in self.GetOOBSamplesIndicesForTree(i):\n",
        "          predictors.append(i)\n",
        "      return predictors  \n",
        "\n",
        "   def GetMajorityVoteFromTrees(self,predictors,sample_index):\n",
        "      predictions=list()\n",
        "      for i in predictors:\n",
        "        test_instance=self.GetTestInstanceFeatures(dataset_train[sample_index,:],i)\n",
        "        prediction = self.Test_Model(self.forest[i],test_instance)\n",
        "        predictions.append(prediction)\n",
        "        result=0\n",
        "        if predictions.count(1)>predictions.count(0):\n",
        "           result=1\n",
        "      return result     \n",
        "\n",
        "   def AddSampleIndex(self,j):\n",
        "      for i in self.GetTreeIndexForOOBSample(j):\n",
        "        self.selected_samples[i].append(j)\n",
        "\n",
        "   def TestOOBApproach2(self):\n",
        "     accuracy=list()\n",
        "     for i in range(len(self.forest)):\n",
        "       oob_samples=self.GetOOBSamplesIndicesForTree(i)\n",
        "       for j in oob_samples:\n",
        "         if j < np.shape(dataset_train)[0]:\n",
        "          result=self.GetMajorityVoteFromTrees(self.GetTreeIndexForOOBSample(j),j)   \n",
        "          accuracy.append(result == dataset_train[j,57])\n",
        "          self.AddSampleIndex(j)\n",
        "     return accuracy.count(True)/len(accuracy)    \n",
        "\n",
        "   def Test_RandomForest(self):\n",
        "     i=0\n",
        "     accuracy=list()\n",
        "     predictions=list()\n",
        "     s,f=np.shape(dataset_test)\n",
        "     for j in range(s):\n",
        "        predictions.clear()\n",
        "        for i in range(len(self.forest)):\n",
        "          prediction=self.Test_Model(self.forest[i],self.GetTestInstanceFeatures(dataset_test[j,:],i))\n",
        "          predictions.append(prediction)\n",
        "          #i=i+1\n",
        "        result=0\n",
        "        if predictions.count(1)>predictions.count(0):\n",
        "           result=1\n",
        "        self.predictions.append(result)\n",
        "        accuracy.append(result == dataset_test[j,f-1])\n",
        "     return accuracy.count(True)/len(accuracy)\n",
        "\n",
        "   def Test_RandomForestonOOBSamples(self):\n",
        "       accuracy=list()\n",
        "       for i in range(len(self.forest)):\n",
        "           c=0\n",
        "           k=0\n",
        "           for oob_sample in self.oob_samples[i]:\n",
        "               prediction=self.forest[i].classify(oob_sample,self.forest[i].root)\n",
        "               if prediction is  not None:\n",
        "                   k=k+1\n",
        "                   if prediction == oob_sample[-1]:\n",
        "                      c=c+1\n",
        "           accuracy.append(c/k)\n",
        "       return sum(accuracy)/len(accuracy)"
      ],
      "execution_count": null,
      "outputs": []
    },
    {
      "cell_type": "markdown",
      "metadata": {
        "id": "4M934ulxhdYA"
      },
      "source": [
        "Return sensitivity and print accuracy"
      ]
    },
    {
      "cell_type": "code",
      "metadata": {
        "id": "1LflhaqYk2X4"
      },
      "source": [
        "def GetAccuracyandConfusionMatrix(y_test,y_pred):\n",
        "    from sklearn.metrics import confusion_matrix, accuracy_score\n",
        "    cm = confusion_matrix(y_test, y_pred)\n",
        "    print(\"Accuracy\")\n",
        "    print(accuracy_score(y_test, y_pred))\n",
        "    return accuracy_score(y_test, y_pred),cm[0,0]/(cm[0,0]+cm[1,0])"
      ],
      "execution_count": null,
      "outputs": []
    },
    {
      "cell_type": "markdown",
      "metadata": {
        "id": "BEwnB6gVhlew"
      },
      "source": [
        "Plot sensitivity graph"
      ]
    },
    {
      "cell_type": "code",
      "metadata": {
        "id": "U9N1dSWSlj4f"
      },
      "source": [
        "def plot_modelselection(accuracy_plot,sensitivity,oob_error):\n",
        "         y1 = list()\n",
        "         f_min=2*int(np.sqrt(np.shape(dataset)[1]))-4\n",
        "         f_max=f_min+9\n",
        "         for i in range(f_min,f_max,2):\n",
        "           y1.append(f_min + i)\n",
        "         plt.plot(y1, accuracy_plot, label=\"Error\")\n",
        "         #plt.plot(y1, sensitivity, label=\"Sensitivity\")\n",
        "         plt.plot(y1, oob_error, label=\"OOB_error\")\n",
        "         plt.xlabel('Num of features')\n",
        "         # plt.ylabel('Sensitivity')\n",
        "         #plt.title('Sensitivity Plot')\n",
        "         plt.legend()\n",
        "         plt.show()"
      ],
      "execution_count": null,
      "outputs": []
    },
    {
      "cell_type": "code",
      "metadata": {
        "id": "HbjWOsKl5xFQ"
      },
      "source": [
        "def plot_sensitivity(accuracy_plot,sensitivity):\n",
        "         y1 = list()\n",
        "         f_min=2*int(np.sqrt(np.shape(dataset)[1]))-4\n",
        "         f_max=f_min+9\n",
        "         for i in range(f_min,f_max,2):\n",
        "           y1.append(f_min + i)\n",
        "         plt.plot(y1, accuracy_plot, label=\"Accuracy\")\n",
        "         plt.plot(y1, sensitivity, label=\"Sensitivity\")\n",
        "         #plt.plot(y1, oob_error, label=\"OOB_error\")\n",
        "         plt.xlabel('Num of features')\n",
        "         # plt.ylabel('Sensitivity')\n",
        "         #plt.title('Sensitivity Plot')\n",
        "         plt.legend()\n",
        "         plt.show()"
      ],
      "execution_count": null,
      "outputs": []
    },
    {
      "cell_type": "markdown",
      "metadata": {
        "id": "hjWwYm_Hh1lN"
      },
      "source": [
        "Build Random Forest Classifier"
      ]
    },
    {
      "cell_type": "code",
      "metadata": {
        "id": "e2t7EQ70lwpA"
      },
      "source": [
        "def BuildRandomForest(num_trees,num_features):\n",
        "     samples,f=np.shape(dataset)\n",
        "     random = EnsembleRandomForest(num_trees=num_trees,num_samples=samples,num_features=num_features,dataset=dataset)\n",
        "     print(\"Building Forest...\")\n",
        "\n",
        "     random.CreateForestOfLearnedTrees()\n",
        "     print(\"Making Predictions...\")\n",
        "     accuracy = random.Test_RandomForest()\n",
        "      \n",
        "     print(\"OOB Score\")\n",
        "     oob_score=random.TestOOBApproach2()\n",
        "     #print(random.Test_RandomForestonOOBSamples())\n",
        "     print(oob_score)\n",
        "     \n",
        "     accuracy,sensitivity=GetAccuracyandConfusionMatrix(y_test, random.predictions)\n",
        "     return accuracy,sensitivity,oob_score\n"
      ],
      "execution_count": null,
      "outputs": []
    },
    {
      "cell_type": "markdown",
      "metadata": {
        "id": "bQlJeLAmh7W0"
      },
      "source": [
        "Learn RFC for different values of num_features"
      ]
    },
    {
      "cell_type": "code",
      "metadata": {
        "id": "35k30-zuo0LL"
      },
      "source": [
        "def ExploreSensitivityOfRandomForestwrtm():\n",
        "   error=list()\n",
        "   accu=list()\n",
        "   sensitivities=list()\n",
        "   oob_error=list()\n",
        "   i=0\n",
        "   m= 2*int(np.sqrt(np.shape(dataset)[1]))-4\n",
        "   while m + i <= 2*int(np.sqrt(np.shape(dataset)[1])) + 4:\n",
        "     acc,sensitivity,oob_score= BuildRandomForest(num_trees=5,num_features=m+i)\n",
        "     error.append(1-acc)\n",
        "     accu.append(acc)\n",
        "     sensitivities.append(sensitivity)\n",
        "     oob_error.append((1-oob_score))\n",
        "     i=i+2\n",
        "   plot_modelselection(error,sensitivities,oob_error) \n",
        "   plot_sensitivity(accu,sensitivities)"
      ],
      "execution_count": null,
      "outputs": []
    },
    {
      "cell_type": "markdown",
      "metadata": {
        "id": "S32r3KFFiJwS"
      },
      "source": [
        "Basic Random Forest Classifier with oob score computation keeping num_features sqrt(n)/2 ,sqrt(n),2*sqrt(n)"
      ]
    },
    {
      "cell_type": "code",
      "metadata": {
        "colab": {
          "base_uri": "https://localhost:8080/"
        },
        "id": "g6I09VtvlRDP",
        "outputId": "41f891a9-0c1c-45c5-f5a2-33f088459614"
      },
      "source": [
        "features = int(np.sqrt(np.shape(dataset)[1]))\n",
        "BuildRandomForest(num_trees=9,num_features=features/2)\n",
        "BuildRandomForest(num_trees=9,num_features=features)\n",
        "BuildRandomForest(num_trees=9,num_features=2*features)"
      ],
      "execution_count": null,
      "outputs": [
        {
          "output_type": "stream",
          "name": "stdout",
          "text": [
            "Building Forest...\n",
            "Making Predictions...\n",
            "OOB Score\n",
            "0.7393364928909952\n",
            "Accuracy\n",
            "0.7557971014492754\n",
            "Building Forest...\n",
            "Making Predictions...\n",
            "OOB Score\n",
            "0.841624685138539\n",
            "Accuracy\n",
            "0.8847826086956522\n",
            "Building Forest...\n",
            "Making Predictions...\n",
            "OOB Score\n",
            "0.8521684077239633\n",
            "Accuracy\n",
            "0.9260869565217391\n"
          ]
        },
        {
          "output_type": "execute_result",
          "data": {
            "text/plain": [
              "(0.9260869565217391, 0.910958904109589, 0.8521684077239633)"
            ]
          },
          "metadata": {},
          "execution_count": 28
        }
      ]
    },
    {
      "cell_type": "code",
      "metadata": {
        "colab": {
          "base_uri": "https://localhost:8080/"
        },
        "id": "d45DFPyUhxuj",
        "outputId": "d395f758-3f85-48be-b33e-04bea3a051f8"
      },
      "source": [
        "PreBuildRandomForest()"
      ],
      "execution_count": null,
      "outputs": [
        {
          "output_type": "stream",
          "name": "stdout",
          "text": [
            "Scikit Learn RFC\n",
            "Accuracy\n",
            "0.9492753623188406\n",
            "OOB score\n",
            "0.9211180124223602\n"
          ]
        },
        {
          "output_type": "stream",
          "name": "stderr",
          "text": [
            "/usr/local/lib/python3.7/dist-packages/sklearn/ensemble/_forest.py:523: UserWarning: Some inputs do not have OOB scores. This probably means too few trees were used to compute any reliable oob estimates.\n",
            "  warn(\"Some inputs do not have OOB scores. \"\n",
            "/usr/local/lib/python3.7/dist-packages/sklearn/ensemble/_forest.py:528: RuntimeWarning: invalid value encountered in true_divide\n",
            "  predictions[k].sum(axis=1)[:, np.newaxis])\n"
          ]
        }
      ]
    },
    {
      "cell_type": "code",
      "metadata": {
        "colab": {
          "base_uri": "https://localhost:8080/"
        },
        "id": "DqVOWgsRiQZJ",
        "outputId": "7d76c066-8ed5-428c-bcae-717d683c5b8b"
      },
      "source": [
        "BuildRandomForest(num_trees=10,num_features=26)"
      ],
      "execution_count": null,
      "outputs": [
        {
          "output_type": "stream",
          "name": "stdout",
          "text": [
            "Building Forest...\n",
            "Making Predictions...\n",
            "OOB Score\n",
            "0.9139987445072191\n",
            "Accuracy\n",
            "0.9492753623188406\n"
          ]
        },
        {
          "output_type": "execute_result",
          "data": {
            "text/plain": [
              "(0.9492753623188406, 0.9433962264150944, 0.9139987445072191)"
            ]
          },
          "metadata": {},
          "execution_count": 36
        }
      ]
    },
    {
      "cell_type": "code",
      "metadata": {
        "colab": {
          "base_uri": "https://localhost:8080/"
        },
        "id": "NS16joIMvpja",
        "outputId": "6e459ad2-903c-4946-eacf-83c3cdf13079"
      },
      "source": [
        "BuildRandomForest(num_trees=5,num_features=21)"
      ],
      "execution_count": null,
      "outputs": [
        {
          "output_type": "stream",
          "name": "stdout",
          "text": [
            "Building Forest...\n",
            "Making Predictions...\n",
            "OOB Score\n",
            "0.8801524073432629\n",
            "Accuracy\n",
            "0.9231884057971015\n"
          ]
        },
        {
          "output_type": "execute_result",
          "data": {
            "text/plain": [
              "(0.9231884057971015, 0.9172494172494172, 0.8801524073432629)"
            ]
          },
          "metadata": {},
          "execution_count": 39
        }
      ]
    },
    {
      "cell_type": "markdown",
      "metadata": {
        "id": "1Vdpnx2DRWE4"
      },
      "source": [
        "It can clearly be seen that Accuracy and oob_score incresed for values 2*sqrt(n) hence taking a range of m as (2*sqrt(n)-4,2*sqrt(n)+4) for plotting oob_score "
      ]
    },
    {
      "cell_type": "code",
      "metadata": {
        "colab": {
          "base_uri": "https://localhost:8080/"
        },
        "id": "QW5O5LuwlRAQ",
        "outputId": "2e19e653-7100-400d-f242-bd58a1567474"
      },
      "source": [
        "ExploreSensitivityOfRandomForestwrtm()"
      ],
      "execution_count": null,
      "outputs": [
        {
          "output_type": "stream",
          "name": "stdout",
          "text": [
            "Building Forest...\n",
            "Making Predictions...\n",
            "OOB Score\n",
            "0.8422506040731792\n",
            "Accuracy\n",
            "0.9057971014492754\n",
            "Building Forest...\n",
            "Making Predictions...\n",
            "OOB Score\n",
            "0.8617241379310345\n",
            "Accuracy\n",
            "0.9166666666666666\n",
            "Building Forest...\n",
            "Making Predictions...\n",
            "OOB Score\n",
            "0.8564527260179434\n",
            "Accuracy\n",
            "0.9188405797101449\n",
            "Building Forest...\n",
            "Making Predictions...\n",
            "OOB Score\n",
            "0.8638707459608113\n",
            "Accuracy\n",
            "0.922463768115942\n",
            "Building Forest...\n",
            "Making Predictions...\n",
            "OOB Score\n",
            "0.8423050379572119\n",
            "Accuracy\n",
            "0.9173913043478261\n"
          ]
        },
        {
          "output_type": "display_data",
          "data": {
            "image/png": "[encoded data removed]",
            "text/plain": [
              "<Figure size 432x288 with 1 Axes>"
            ]
          },
          "metadata": {
            "needs_background": "light"
          }
        },
        {
          "output_type": "display_data",
          "data": {
            "image/png": "[encoded data removed]",
            "text/plain": [
              "<Figure size 432x288 with 1 Axes>"
            ]
          },
          "metadata": {
            "needs_background": "light"
          }
        }
      ]
    }
  ]
}